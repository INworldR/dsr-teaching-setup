{
 "cells": [
  {
   "cell_type": "markdown",
   "id": "61d410f7-15c7-4761-a517-9209dcea4619",
   "metadata": {},
   "source": [
    "# simple test notebook"
   ]
  },
  {
   "cell_type": "code",
   "execution_count": 8,
   "id": "b1e2b92a-61f8-46ec-943f-5e3771da0cef",
   "metadata": {},
   "outputs": [],
   "source": [
    "import sys\n",
    "import os\n",
    "\n",
    "try:\n",
    "    current_dir = os.path.dirname(os.path.abspath(__file__))\n",
    "except NameError:\n",
    "    current_dir = os.getcwd()\n",
    "\n",
    "# Add the parent folder of src to sys.path\n",
    "current_dir = os.getcwd()\n",
    "parent_dir = os.path.dirname(current_dir)\n",
    "src_path = os.path.join(parent_dir, 'src')\n",
    "\n",
    "if src_path not in sys.path:\n",
    "    sys.path.append(src_path)\n",
    "\n",
    "classes_dir = os.path.join(os.path.dirname(current_dir), 'src')\n",
    "data_dir = os.path.join(os.path.dirname(current_dir), 'data')\n",
    "#csv_file = os.path.join(data_dir, 'query_results_20250321_102845.csv')\n",
    "\n",
    "debug = False"
   ]
  },
  {
   "cell_type": "code",
   "execution_count": 9,
   "id": "5d94ba11-2f3a-4186-935b-c632b2e6e228",
   "metadata": {},
   "outputs": [
    {
     "name": "stdout",
     "output_type": "stream",
     "text": [
      "Hello world\n"
     ]
    }
   ],
   "source": [
    "print( \"Hello world\")"
   ]
  },
  {
   "cell_type": "code",
   "execution_count": 10,
   "id": "d72e3b88-3c94-407a-b281-5c616193800a",
   "metadata": {},
   "outputs": [
    {
     "data": {
      "application/vnd.jupyter.widget-view+json": {
       "model_id": "e7da1a566fd14111ab0906b156d92e18",
       "version_major": 2,
       "version_minor": 0
      },
      "text/plain": [
       "Button(description='Test Button', style=ButtonStyle())"
      ]
     },
     "metadata": {},
     "output_type": "display_data"
    }
   ],
   "source": [
    "import ipywidgets as widgets\n",
    "display(widgets.Button(description=\"Test Button\"))"
   ]
  },
  {
   "cell_type": "code",
   "execution_count": 11,
   "id": "3df9126d-0cbc-421a-9e7b-c50d2b5fcf24",
   "metadata": {},
   "outputs": [
    {
     "name": "stdout",
     "output_type": "stream",
     "text": [
      "Jim\n"
     ]
    }
   ],
   "source": [
    "from _def_classes import Student\n",
    "\n",
    "student1 = Student(\"Jim\", \"Business\", 3.4, False)\n",
    "\n",
    "print(student1.name)"
   ]
  },
  {
   "cell_type": "code",
   "execution_count": null,
   "id": "52920155-2a7f-4016-bdb2-1418c3e48577",
   "metadata": {},
   "outputs": [],
   "source": []
  }
 ],
 "metadata": {
  "kernelspec": {
   "display_name": "Python 3 (ipykernel)",
   "language": "python",
   "name": "python3"
  },
  "language_info": {
   "codemirror_mode": {
    "name": "ipython",
    "version": 3
   },
   "file_extension": ".py",
   "mimetype": "text/x-python",
   "name": "python",
   "nbconvert_exporter": "python",
   "pygments_lexer": "ipython3",
   "version": "3.12.9"
  }
 },
 "nbformat": 4,
 "nbformat_minor": 5
}
