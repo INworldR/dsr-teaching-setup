{
 "cells": [
  {
   "cell_type": "markdown",
   "id": "61d410f7-15c7-4761-a517-9209dcea4619",
   "metadata": {},
   "source": [
    "# simple test notebook"
   ]
  },
  {
   "cell_type": "code",
   "execution_count": 1,
   "id": "b1e2b92a-61f8-46ec-943f-5e3771da0cef",
   "metadata": {},
   "outputs": [
    {
     "name": "stdout",
     "output_type": "stream",
     "text": [
      "Hello world\n"
     ]
    }
   ],
   "source": [
    "import os\n",
    "\n",
    "print( \"Hello world\")"
   ]
  },
  {
   "cell_type": "code",
   "execution_count": 3,
   "id": "d72e3b88-3c94-407a-b281-5c616193800a",
   "metadata": {},
   "outputs": [
    {
     "data": {
      "application/vnd.jupyter.widget-view+json": {
       "model_id": "7cfad0cae1394dd1bfbb7a39be3aaef9",
       "version_major": 2,
       "version_minor": 0
      },
      "text/plain": [
       "Button(description='Test Button', style=ButtonStyle())"
      ]
     },
     "metadata": {},
     "output_type": "display_data"
    }
   ],
   "source": [
    "import ipywidgets as widgets\n",
    "display(widgets.Button(description=\"Test Button\"))"
   ]
  },
  {
   "cell_type": "code",
   "execution_count": null,
   "id": "3df9126d-0cbc-421a-9e7b-c50d2b5fcf24",
   "metadata": {},
   "outputs": [],
   "source": []
  }
 ],
 "metadata": {
  "kernelspec": {
   "display_name": "Python 3 (ipykernel)",
   "language": "python",
   "name": "python3"
  },
  "language_info": {
   "codemirror_mode": {
    "name": "ipython",
    "version": 3
   },
   "file_extension": ".py",
   "mimetype": "text/x-python",
   "name": "python",
   "nbconvert_exporter": "python",
   "pygments_lexer": "ipython3",
   "version": "3.12.9"
  }
 },
 "nbformat": 4,
 "nbformat_minor": 5
}
