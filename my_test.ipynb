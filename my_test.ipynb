{
 "cells": [
  {
   "cell_type": "markdown",
   "id": "61d410f7-15c7-4761-a517-9209dcea4619",
   "metadata": {},
   "source": [
    "# simple test notebook"
   ]
  },
  {
   "cell_type": "code",
   "execution_count": 1,
   "id": "b1e2b92a-61f8-46ec-943f-5e3771da0cef",
   "metadata": {},
   "outputs": [
    {
     "name": "stdout",
     "output_type": "stream",
     "text": [
      "Hello world\n"
     ]
    }
   ],
   "source": [
    "print( \"Hello world\")"
   ]
  }
 ],
 "metadata": {
  "kernelspec": {
   "display_name": "Python 3 (ipykernel)",
   "language": "python",
   "name": "python3"
  },
  "language_info": {
   "codemirror_mode": {
    "name": "ipython",
    "version": 3
   },
   "file_extension": ".py",
   "mimetype": "text/x-python",
   "name": "python",
   "nbconvert_exporter": "python",
   "pygments_lexer": "ipython3",
   "version": "3.12.9"
  }
 },
 "nbformat": 4,
 "nbformat_minor": 5
}
